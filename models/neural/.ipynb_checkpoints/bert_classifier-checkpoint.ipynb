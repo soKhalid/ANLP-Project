{
 "cells": [
  {
   "cell_type": "code",
   "execution_count": 3,
   "id": "edfbaf35-45a6-479f-9467-39eb6d39d3aa",
   "metadata": {},
   "outputs": [
    {
     "name": "stdout",
     "output_type": "stream",
     "text": [
      "🤖 BERT Sentiment Analysis Setup\n",
      "==================================================\n",
      "Using device: cpu\n",
      "\n",
      "Configuration:\n",
      "  model_name: distilbert-base-uncased\n",
      "  max_length: 128\n",
      "  batch_size: 16\n",
      "  learning_rate: 2e-05\n",
      "  epochs: 3\n",
      "  warmup_steps: 500\n",
      "  num_classes: 2\n",
      "\n",
      "📊 Loading processed data...\n",
      "✅ Loaded 10000 Amazon reviews\n",
      "\n",
      "📈 Data splits:\n",
      "Training: 6400 samples\n",
      "Validation: 1600 samples\n",
      "Test: 2000 samples\n",
      "\n",
      "🔄 Initializing tokenizer and creating data loaders...\n"
     ]
    },
    {
     "data": {
      "application/vnd.jupyter.widget-view+json": {
       "model_id": "e0d917adc93a4570a92cfadc377ea2f4",
       "version_major": 2,
       "version_minor": 0
      },
      "text/plain": [
       "tokenizer_config.json:   0%|          | 0.00/48.0 [00:00<?, ?B/s]"
      ]
     },
     "metadata": {},
     "output_type": "display_data"
    },
    {
     "data": {
      "application/vnd.jupyter.widget-view+json": {
       "model_id": "1da5f9d93c2b491a8e2f9fa210a97959",
       "version_major": 2,
       "version_minor": 0
      },
      "text/plain": [
       "vocab.txt:   0%|          | 0.00/232k [00:00<?, ?B/s]"
      ]
     },
     "metadata": {},
     "output_type": "display_data"
    },
    {
     "data": {
      "application/vnd.jupyter.widget-view+json": {
       "model_id": "02f1e68b08ff446098254a52c8dab263",
       "version_major": 2,
       "version_minor": 0
      },
      "text/plain": [
       "tokenizer.json:   0%|          | 0.00/466k [00:00<?, ?B/s]"
      ]
     },
     "metadata": {},
     "output_type": "display_data"
    },
    {
     "data": {
      "application/vnd.jupyter.widget-view+json": {
       "model_id": "fa8ca265cad340a0bdc7ddc0f7df2523",
       "version_major": 2,
       "version_minor": 0
      },
      "text/plain": [
       "config.json:   0%|          | 0.00/483 [00:00<?, ?B/s]"
      ]
     },
     "metadata": {},
     "output_type": "display_data"
    },
    {
     "name": "stdout",
     "output_type": "stream",
     "text": [
      "✅ Data loaders created!\n",
      "   Training batches: 400\n",
      "   Validation batches: 100\n",
      "   Test batches: 125\n",
      "\n",
      "🚀 Initializing BERT model...\n"
     ]
    },
    {
     "data": {
      "application/vnd.jupyter.widget-view+json": {
       "model_id": "5c74d88563d44cb1a16a8c76de232650",
       "version_major": 2,
       "version_minor": 0
      },
      "text/plain": [
       "model.safetensors:   0%|          | 0.00/268M [00:00<?, ?B/s]"
      ]
     },
     "metadata": {},
     "output_type": "display_data"
    },
    {
     "name": "stderr",
     "output_type": "stream",
     "text": [
      "Some weights of DistilBertForSequenceClassification were not initialized from the model checkpoint at distilbert-base-uncased and are newly initialized: ['classifier.bias', 'classifier.weight', 'pre_classifier.bias', 'pre_classifier.weight']\n",
      "You should probably TRAIN this model on a down-stream task to be able to use it for predictions and inference.\n"
     ]
    },
    {
     "name": "stdout",
     "output_type": "stream",
     "text": [
      "✅ Model loaded!\n",
      "   Total parameters: 66,955,010\n",
      "   Trainable parameters: 66,955,010\n",
      "\n",
      "🎯 Starting training...\n",
      "\n",
      "📍 Epoch 1/3\n",
      "--------------------------------------------------\n"
     ]
    },
    {
     "data": {
      "application/vnd.jupyter.widget-view+json": {
       "model_id": "75f7f31edc8d4f098cd4a00465bec1bf",
       "version_major": 2,
       "version_minor": 0
      },
      "text/plain": [
       "Training:   0%|          | 0/400 [00:00<?, ?it/s]"
      ]
     },
     "metadata": {},
     "output_type": "display_data"
    },
    {
     "name": "stdout",
     "output_type": "stream",
     "text": [
      "Training - Loss: 0.4228, Accuracy: 0.7989\n"
     ]
    },
    {
     "data": {
      "application/vnd.jupyter.widget-view+json": {
       "model_id": "2f3d3fc7b3654ae38a423a523890c28a",
       "version_major": 2,
       "version_minor": 0
      },
      "text/plain": [
       "Evaluating:   0%|          | 0/100 [00:00<?, ?it/s]"
      ]
     },
     "metadata": {},
     "output_type": "display_data"
    },
    {
     "name": "stdout",
     "output_type": "stream",
     "text": [
      "Validation - Loss: 0.3317, Accuracy: 0.8688\n",
      "💾 New best model saved!\n",
      "\n",
      "📍 Epoch 2/3\n",
      "--------------------------------------------------\n"
     ]
    },
    {
     "data": {
      "application/vnd.jupyter.widget-view+json": {
       "model_id": "6b940d76e9f24432aa43cac8e03d8978",
       "version_major": 2,
       "version_minor": 0
      },
      "text/plain": [
       "Training:   0%|          | 0/400 [00:00<?, ?it/s]"
      ]
     },
     "metadata": {},
     "output_type": "display_data"
    },
    {
     "name": "stdout",
     "output_type": "stream",
     "text": [
      "Training - Loss: 0.2300, Accuracy: 0.9089\n"
     ]
    },
    {
     "data": {
      "application/vnd.jupyter.widget-view+json": {
       "model_id": "98933d250f9d48159eb0f21d6399a71f",
       "version_major": 2,
       "version_minor": 0
      },
      "text/plain": [
       "Evaluating:   0%|          | 0/100 [00:00<?, ?it/s]"
      ]
     },
     "metadata": {},
     "output_type": "display_data"
    },
    {
     "name": "stdout",
     "output_type": "stream",
     "text": [
      "Validation - Loss: 0.3162, Accuracy: 0.8906\n",
      "💾 New best model saved!\n",
      "\n",
      "📍 Epoch 3/3\n",
      "--------------------------------------------------\n"
     ]
    },
    {
     "data": {
      "application/vnd.jupyter.widget-view+json": {
       "model_id": "bcf684ab9b764011a4ac25ca341b1177",
       "version_major": 2,
       "version_minor": 0
      },
      "text/plain": [
       "Training:   0%|          | 0/400 [00:00<?, ?it/s]"
      ]
     },
     "metadata": {},
     "output_type": "display_data"
    },
    {
     "name": "stdout",
     "output_type": "stream",
     "text": [
      "Training - Loss: 0.1274, Accuracy: 0.9600\n"
     ]
    },
    {
     "data": {
      "application/vnd.jupyter.widget-view+json": {
       "model_id": "577b102d4ca04b09a7a8cc8587707584",
       "version_major": 2,
       "version_minor": 0
      },
      "text/plain": [
       "Evaluating:   0%|          | 0/100 [00:00<?, ?it/s]"
      ]
     },
     "metadata": {},
     "output_type": "display_data"
    },
    {
     "name": "stdout",
     "output_type": "stream",
     "text": [
      "Validation - Loss: 0.3821, Accuracy: 0.8919\n",
      "💾 New best model saved!\n",
      "\n",
      "✅ Training complete! Best validation accuracy: 0.8919\n"
     ]
    },
    {
     "data": {
      "image/png": "[encoded data removed]",
      "text/plain": [
       "<Figure size 1200x400 with 2 Axes>"
      ]
     },
     "metadata": {},
     "output_type": "display_data"
    },
    {
     "name": "stdout",
     "output_type": "stream",
     "text": [
      "\n",
      "📊 Evaluating on test set...\n"
     ]
    },
    {
     "data": {
      "application/vnd.jupyter.widget-view+json": {
       "model_id": "96ca2c02e2554d2abbacc6b7ad89c7b2",
       "version_major": 2,
       "version_minor": 0
      },
      "text/plain": [
       "Evaluating:   0%|          | 0/125 [00:00<?, ?it/s]"
      ]
     },
     "metadata": {},
     "output_type": "display_data"
    },
    {
     "name": "stdout",
     "output_type": "stream",
     "text": [
      "\n",
      "🎯 Test Results:\n",
      "Loss: 0.3131\n",
      "Accuracy: 0.9135\n",
      "\n",
      "📋 Classification Report:\n",
      "              precision    recall  f1-score   support\n",
      "\n",
      "    Negative       0.84      0.78      0.81       477\n",
      "    Positive       0.93      0.95      0.94      1523\n",
      "\n",
      "    accuracy                           0.91      2000\n",
      "   macro avg       0.89      0.87      0.88      2000\n",
      "weighted avg       0.91      0.91      0.91      2000\n",
      "\n"
     ]
    },
    {
     "data": {
      "image/png": "[encoded data removed]",
      "text/plain": [
       "<Figure size 800x600 with 2 Axes>"
      ]
     },
     "metadata": {},
     "output_type": "display_data"
    },
    {
     "name": "stdout",
     "output_type": "stream",
     "text": [
      "\n",
      "❌ Misclassified examples: 173 out of 2000\n",
      "\n",
      "📝 Sample misclassified texts:\n",
      "\n",
      "Text: Long story short - these are very tasty. We have purchased a number of flavors from this brand, this is my favorite.<br /><br />BUT... as noted by ano...\n",
      "True label: Negative\n",
      "Predicted: Positive\n",
      "\n",
      "Text: It's the standard Horizon milk, in small packages that you don't have to refrigerate.<br /><br />The only reason I buy this is I bake, and I hate bein...\n",
      "True label: Negative\n",
      "Predicted: Positive\n",
      "\n",
      "Text: I make Coconut Water Kefir with O.N.E. 100% Coconut Water.  I've tried using Zico brand.  I do not like to discredit any brand, but for some reason my...\n",
      "True label: Positive\n",
      "Predicted: Negative\n",
      "\n",
      "Text: I'm not as crazed about these as everyone else, but for a low-calorie snack, they're fine.  They certainly don't do much to curb the appetite though. ...\n",
      "True label: Negative\n",
      "Predicted: Positive\n",
      "\n",
      "Text: The quality of Tofu is very good. But it is a little bit more soft than what I expected. I will try the firm version....\n",
      "True label: Positive\n",
      "Predicted: Negative\n",
      "\n",
      "🎯 Testing prediction function:\n",
      "\n",
      "--------------------------------------------------\n",
      "Text: This product is amazing! Best purchase ever!...\n",
      "Sentiment: Positive 😊\n",
      "Confidence: 99.65%\n",
      "Probability distribution: Negative=0.35%, Positive=99.65%\n",
      "\n",
      "--------------------------------------------------\n",
      "Text: Terrible quality, broke after one day. Very disappointed....\n",
      "Sentiment: Negative 😔\n",
      "Confidence: 99.37%\n",
      "Probability distribution: Negative=99.37%, Positive=0.63%\n",
      "\n",
      "--------------------------------------------------\n",
      "Text: It's okay, nothing special but does the job....\n",
      "Sentiment: Negative 😔\n",
      "Confidence: 64.17%\n",
      "Probability distribution: Negative=64.17%, Positive=35.83%\n",
      "\n",
      "--------------------------------------------------\n",
      "Text: Absolutely love it! Exceeded all my expectations!...\n",
      "Sentiment: Positive 😊\n",
      "Confidence: 99.56%\n",
      "Probability distribution: Negative=0.44%, Positive=99.56%\n",
      "\n",
      "--------------------------------------------------\n",
      "Text: Worst customer service experience of my life....\n",
      "Sentiment: Negative 😔\n",
      "Confidence: 97.50%\n",
      "Probability distribution: Negative=97.50%, Positive=2.50%\n",
      "\n",
      "💾 Saving model...\n",
      "✅ Model saved to 'bert_sentiment_model/'\n",
      "✅ Results saved to 'bert_results.json'\n",
      "\n",
      "📌 Note: Run logistic regression first for comparison\n",
      "\n",
      "🎉 BERT implementation complete!\n"
     ]
    }
   ],
   "source": [
    "#!/usr/bin/env python3\n",
    "\"\"\"\n",
    "BERT Classifier for Customer Support Sentiment Analysis\n",
    "Complete implementation for Jupyter Notebook\n",
    "\"\"\"\n",
    "\n",
    "import numpy as np\n",
    "import pandas as pd\n",
    "import torch\n",
    "import torch.nn as nn\n",
    "from torch.utils.data import Dataset, DataLoader, TensorDataset\n",
    "from transformers import (\n",
    "    DistilBertTokenizer, DistilBertForSequenceClassification,\n",
    "    BertTokenizer, BertForSequenceClassification,\n",
    "    get_linear_schedule_with_warmup\n",
    ")\n",
    "# Handle different transformers versions\n",
    "try:\n",
    "    from transformers import AdamW\n",
    "except ImportError:\n",
    "    from torch.optim import AdamW\n",
    "from sklearn.model_selection import train_test_split\n",
    "from sklearn.metrics import accuracy_score, classification_report, confusion_matrix\n",
    "import matplotlib.pyplot as plt\n",
    "import seaborn as sns\n",
    "from tqdm.notebook import tqdm\n",
    "import warnings\n",
    "warnings.filterwarnings('ignore')\n",
    "\n",
    "# Cell 1: Setup and Configuration\n",
    "print(\"🤖 BERT Sentiment Analysis Setup\")\n",
    "print(\"=\" * 50)\n",
    "\n",
    "# Check if GPU is available\n",
    "device = torch.device('cuda' if torch.cuda.is_available() else 'cpu')\n",
    "print(f\"Using device: {device}\")\n",
    "\n",
    "# Configuration\n",
    "config = {\n",
    "    'model_name': 'distilbert-base-uncased',  # Smaller, faster BERT\n",
    "    'max_length': 128,\n",
    "    'batch_size': 16,\n",
    "    'learning_rate': 2e-5,\n",
    "    'epochs': 3,\n",
    "    'warmup_steps': 500,\n",
    "    'num_classes': 2\n",
    "}\n",
    "\n",
    "print(\"\\nConfiguration:\")\n",
    "for key, value in config.items():\n",
    "    print(f\"  {key}: {value}\")\n",
    "\n",
    "# Cell 2: Load processed data\n",
    "print(\"\\n📊 Loading processed data...\")\n",
    "amazon_df = pd.read_csv('processed_data/amazon_processed.csv')\n",
    "print(f\"✅ Loaded {len(amazon_df)} Amazon reviews\")\n",
    "\n",
    "# Use original text for BERT (it does its own preprocessing)\n",
    "X = amazon_df['Text'].fillna('').values\n",
    "y = amazon_df['binary_sentiment'].values\n",
    "\n",
    "# Split data\n",
    "X_train, X_test, y_train, y_test = train_test_split(\n",
    "    X, y, test_size=0.2, random_state=42, stratify=y\n",
    ")\n",
    "\n",
    "X_train, X_val, y_train, y_val = train_test_split(\n",
    "    X_train, y_train, test_size=0.2, random_state=42, stratify=y_train\n",
    ")\n",
    "\n",
    "print(f\"\\n📈 Data splits:\")\n",
    "print(f\"Training: {len(X_train)} samples\")\n",
    "print(f\"Validation: {len(X_val)} samples\")\n",
    "print(f\"Test: {len(X_test)} samples\")\n",
    "\n",
    "# Cell 3: Create PyTorch Dataset\n",
    "class SentimentDataset(Dataset):\n",
    "    \"\"\"PyTorch Dataset for sentiment analysis\"\"\"\n",
    "    \n",
    "    def __init__(self, texts, labels, tokenizer, max_length):\n",
    "        self.texts = texts\n",
    "        self.labels = labels\n",
    "        self.tokenizer = tokenizer\n",
    "        self.max_length = max_length\n",
    "    \n",
    "    def __len__(self):\n",
    "        return len(self.texts)\n",
    "    \n",
    "    def __getitem__(self, idx):\n",
    "        text = str(self.texts[idx])\n",
    "        label = self.labels[idx]\n",
    "        \n",
    "        # Tokenize text\n",
    "        encoding = self.tokenizer(\n",
    "            text,\n",
    "            truncation=True,\n",
    "            padding='max_length',\n",
    "            max_length=self.max_length,\n",
    "            return_tensors='pt'\n",
    "        )\n",
    "        \n",
    "        return {\n",
    "            'input_ids': encoding['input_ids'].flatten(),\n",
    "            'attention_mask': encoding['attention_mask'].flatten(),\n",
    "            'label': torch.tensor(label, dtype=torch.long)\n",
    "        }\n",
    "\n",
    "# Cell 4: Initialize tokenizer and create data loaders\n",
    "print(\"\\n🔄 Initializing tokenizer and creating data loaders...\")\n",
    "\n",
    "# Initialize tokenizer\n",
    "tokenizer = DistilBertTokenizer.from_pretrained(config['model_name'])\n",
    "\n",
    "# Create datasets\n",
    "train_dataset = SentimentDataset(X_train, y_train, tokenizer, config['max_length'])\n",
    "val_dataset = SentimentDataset(X_val, y_val, tokenizer, config['max_length'])\n",
    "test_dataset = SentimentDataset(X_test, y_test, tokenizer, config['max_length'])\n",
    "\n",
    "# Create data loaders\n",
    "train_loader = DataLoader(train_dataset, batch_size=config['batch_size'], shuffle=True)\n",
    "val_loader = DataLoader(val_dataset, batch_size=config['batch_size'], shuffle=False)\n",
    "test_loader = DataLoader(test_dataset, batch_size=config['batch_size'], shuffle=False)\n",
    "\n",
    "print(f\"✅ Data loaders created!\")\n",
    "print(f\"   Training batches: {len(train_loader)}\")\n",
    "print(f\"   Validation batches: {len(val_loader)}\")\n",
    "print(f\"   Test batches: {len(test_loader)}\")\n",
    "\n",
    "# Cell 5: Initialize model\n",
    "print(\"\\n🚀 Initializing BERT model...\")\n",
    "\n",
    "# Load pre-trained model\n",
    "model = DistilBertForSequenceClassification.from_pretrained(\n",
    "    config['model_name'],\n",
    "    num_labels=config['num_classes']\n",
    ")\n",
    "\n",
    "# Move model to device\n",
    "model.to(device)\n",
    "\n",
    "# Count parameters\n",
    "total_params = sum(p.numel() for p in model.parameters())\n",
    "trainable_params = sum(p.numel() for p in model.parameters() if p.requires_grad)\n",
    "print(f\"✅ Model loaded!\")\n",
    "print(f\"   Total parameters: {total_params:,}\")\n",
    "print(f\"   Trainable parameters: {trainable_params:,}\")\n",
    "\n",
    "# Cell 6: Setup training\n",
    "# Optimizer\n",
    "optimizer = AdamW(model.parameters(), lr=config['learning_rate'])\n",
    "\n",
    "# Learning rate scheduler\n",
    "total_steps = len(train_loader) * config['epochs']\n",
    "scheduler = get_linear_schedule_with_warmup(\n",
    "    optimizer,\n",
    "    num_warmup_steps=config['warmup_steps'],\n",
    "    num_training_steps=total_steps\n",
    ")\n",
    "\n",
    "# Loss function\n",
    "criterion = nn.CrossEntropyLoss()\n",
    "\n",
    "# Cell 7: Training functions\n",
    "def train_epoch(model, data_loader, optimizer, scheduler, device):\n",
    "    \"\"\"Train for one epoch\"\"\"\n",
    "    model.train()\n",
    "    total_loss = 0\n",
    "    predictions = []\n",
    "    true_labels = []\n",
    "    \n",
    "    progress_bar = tqdm(data_loader, desc='Training')\n",
    "    \n",
    "    for batch in progress_bar:\n",
    "        # Move batch to device\n",
    "        input_ids = batch['input_ids'].to(device)\n",
    "        attention_mask = batch['attention_mask'].to(device)\n",
    "        labels = batch['label'].to(device)\n",
    "        \n",
    "        # Zero gradients\n",
    "        optimizer.zero_grad()\n",
    "        \n",
    "        # Forward pass\n",
    "        outputs = model(\n",
    "            input_ids=input_ids,\n",
    "            attention_mask=attention_mask,\n",
    "            labels=labels\n",
    "        )\n",
    "        \n",
    "        loss = outputs.loss\n",
    "        total_loss += loss.item()\n",
    "        \n",
    "        # Backward pass\n",
    "        loss.backward()\n",
    "        \n",
    "        # Clip gradients\n",
    "        torch.nn.utils.clip_grad_norm_(model.parameters(), max_norm=1.0)\n",
    "        \n",
    "        # Update weights\n",
    "        optimizer.step()\n",
    "        scheduler.step()\n",
    "        \n",
    "        # Get predictions\n",
    "        _, preds = torch.max(outputs.logits, dim=1)\n",
    "        predictions.extend(preds.cpu().numpy())\n",
    "        true_labels.extend(labels.cpu().numpy())\n",
    "        \n",
    "        # Update progress bar\n",
    "        progress_bar.set_postfix({'loss': loss.item()})\n",
    "    \n",
    "    # Calculate metrics\n",
    "    avg_loss = total_loss / len(data_loader)\n",
    "    accuracy = accuracy_score(true_labels, predictions)\n",
    "    \n",
    "    return avg_loss, accuracy\n",
    "\n",
    "def evaluate(model, data_loader, device):\n",
    "    \"\"\"Evaluate model\"\"\"\n",
    "    model.eval()\n",
    "    total_loss = 0\n",
    "    predictions = []\n",
    "    true_labels = []\n",
    "    \n",
    "    with torch.no_grad():\n",
    "        for batch in tqdm(data_loader, desc='Evaluating'):\n",
    "            input_ids = batch['input_ids'].to(device)\n",
    "            attention_mask = batch['attention_mask'].to(device)\n",
    "            labels = batch['label'].to(device)\n",
    "            \n",
    "            outputs = model(\n",
    "                input_ids=input_ids,\n",
    "                attention_mask=attention_mask,\n",
    "                labels=labels\n",
    "            )\n",
    "            \n",
    "            loss = outputs.loss\n",
    "            total_loss += loss.item()\n",
    "            \n",
    "            _, preds = torch.max(outputs.logits, dim=1)\n",
    "            predictions.extend(preds.cpu().numpy())\n",
    "            true_labels.extend(labels.cpu().numpy())\n",
    "    \n",
    "    avg_loss = total_loss / len(data_loader)\n",
    "    accuracy = accuracy_score(true_labels, predictions)\n",
    "    \n",
    "    return avg_loss, accuracy, predictions, true_labels\n",
    "\n",
    "# Cell 8: Training loop\n",
    "print(\"\\n🎯 Starting training...\")\n",
    "\n",
    "# Training history\n",
    "history = {\n",
    "    'train_loss': [], 'train_acc': [],\n",
    "    'val_loss': [], 'val_acc': []\n",
    "}\n",
    "\n",
    "best_val_acc = 0\n",
    "best_model_state = None\n",
    "\n",
    "for epoch in range(config['epochs']):\n",
    "    print(f\"\\n📍 Epoch {epoch + 1}/{config['epochs']}\")\n",
    "    print(\"-\" * 50)\n",
    "    \n",
    "    # Train\n",
    "    train_loss, train_acc = train_epoch(model, train_loader, optimizer, scheduler, device)\n",
    "    print(f\"Training - Loss: {train_loss:.4f}, Accuracy: {train_acc:.4f}\")\n",
    "    \n",
    "    # Validate\n",
    "    val_loss, val_acc, _, _ = evaluate(model, val_loader, device)\n",
    "    print(f\"Validation - Loss: {val_loss:.4f}, Accuracy: {val_acc:.4f}\")\n",
    "    \n",
    "    # Save history\n",
    "    history['train_loss'].append(train_loss)\n",
    "    history['train_acc'].append(train_acc)\n",
    "    history['val_loss'].append(val_loss)\n",
    "    history['val_acc'].append(val_acc)\n",
    "    \n",
    "    # Save best model\n",
    "    if val_acc > best_val_acc:\n",
    "        best_val_acc = val_acc\n",
    "        best_model_state = model.state_dict().copy()\n",
    "        print(\"💾 New best model saved!\")\n",
    "\n",
    "# Load best model\n",
    "model.load_state_dict(best_model_state)\n",
    "print(f\"\\n✅ Training complete! Best validation accuracy: {best_val_acc:.4f}\")\n",
    "\n",
    "# Cell 9: Plot training history\n",
    "fig, (ax1, ax2) = plt.subplots(1, 2, figsize=(12, 4))\n",
    "\n",
    "# Loss plot\n",
    "ax1.plot(history['train_loss'], label='Training Loss', marker='o')\n",
    "ax1.plot(history['val_loss'], label='Validation Loss', marker='o')\n",
    "ax1.set_xlabel('Epoch')\n",
    "ax1.set_ylabel('Loss')\n",
    "ax1.set_title('Model Loss')\n",
    "ax1.legend()\n",
    "ax1.grid(True, alpha=0.3)\n",
    "\n",
    "# Accuracy plot\n",
    "ax2.plot(history['train_acc'], label='Training Accuracy', marker='o')\n",
    "ax2.plot(history['val_acc'], label='Validation Accuracy', marker='o')\n",
    "ax2.set_xlabel('Epoch')\n",
    "ax2.set_ylabel('Accuracy')\n",
    "ax2.set_title('Model Accuracy')\n",
    "ax2.legend()\n",
    "ax2.grid(True, alpha=0.3)\n",
    "\n",
    "plt.tight_layout()\n",
    "plt.show()\n",
    "\n",
    "# Cell 10: Evaluate on test set\n",
    "print(\"\\n📊 Evaluating on test set...\")\n",
    "\n",
    "test_loss, test_acc, test_preds, test_labels = evaluate(model, test_loader, device)\n",
    "\n",
    "print(f\"\\n🎯 Test Results:\")\n",
    "print(f\"Loss: {test_loss:.4f}\")\n",
    "print(f\"Accuracy: {test_acc:.4f}\")\n",
    "\n",
    "# Classification report\n",
    "print(\"\\n📋 Classification Report:\")\n",
    "print(classification_report(test_labels, test_preds, \n",
    "                          target_names=['Negative', 'Positive']))\n",
    "\n",
    "# Cell 11: Confusion Matrix\n",
    "cm = confusion_matrix(test_labels, test_preds)\n",
    "\n",
    "plt.figure(figsize=(8, 6))\n",
    "sns.heatmap(cm, annot=True, fmt='d', cmap='Blues',\n",
    "            xticklabels=['Negative', 'Positive'],\n",
    "            yticklabels=['Negative', 'Positive'])\n",
    "plt.title('Confusion Matrix - BERT', fontsize=16)\n",
    "plt.ylabel('True Label', fontsize=12)\n",
    "plt.xlabel('Predicted Label', fontsize=12)\n",
    "\n",
    "# Add accuracy text\n",
    "accuracy_text = f'Accuracy: {test_acc:.2%}'\n",
    "plt.text(0.5, -0.1, accuracy_text, transform=plt.gca().transAxes, \n",
    "         ha='center', fontsize=12, weight='bold')\n",
    "plt.tight_layout()\n",
    "plt.show()\n",
    "\n",
    "# Cell 12: Error Analysis\n",
    "# Find misclassified examples\n",
    "test_texts = X_test\n",
    "misclassified_idx = np.where(np.array(test_labels) != np.array(test_preds))[0]\n",
    "\n",
    "print(f\"\\n❌ Misclassified examples: {len(misclassified_idx)} out of {len(test_labels)}\")\n",
    "print(\"\\n📝 Sample misclassified texts:\")\n",
    "\n",
    "for i in misclassified_idx[:5]:\n",
    "    idx = i  # Index in test set\n",
    "    print(f\"\\nText: {test_texts[idx][:150]}...\")\n",
    "    print(f\"True label: {'Positive' if test_labels[i] == 1 else 'Negative'}\")\n",
    "    print(f\"Predicted: {'Positive' if test_preds[i] == 1 else 'Negative'}\")\n",
    "\n",
    "# Cell 13: Interactive prediction function\n",
    "def predict_sentiment(text, model=model, tokenizer=tokenizer, device=device):\n",
    "    \"\"\"Predict sentiment for new text\"\"\"\n",
    "    model.eval()\n",
    "    \n",
    "    # Tokenize\n",
    "    encoding = tokenizer(\n",
    "        text,\n",
    "        truncation=True,\n",
    "        padding='max_length',\n",
    "        max_length=config['max_length'],\n",
    "        return_tensors='pt'\n",
    "    )\n",
    "    \n",
    "    # Move to device\n",
    "    input_ids = encoding['input_ids'].to(device)\n",
    "    attention_mask = encoding['attention_mask'].to(device)\n",
    "    \n",
    "    # Predict\n",
    "    with torch.no_grad():\n",
    "        outputs = model(input_ids=input_ids, attention_mask=attention_mask)\n",
    "        logits = outputs.logits\n",
    "        probs = torch.softmax(logits, dim=1)\n",
    "        _, prediction = torch.max(logits, dim=1)\n",
    "    \n",
    "    # Convert to numpy\n",
    "    prediction = prediction.cpu().numpy()[0]\n",
    "    probs = probs.cpu().numpy()[0]\n",
    "    \n",
    "    sentiment = \"Positive 😊\" if prediction == 1 else \"Negative 😔\"\n",
    "    confidence = probs[prediction]\n",
    "    \n",
    "    print(f\"Text: {text[:100]}...\")\n",
    "    print(f\"Sentiment: {sentiment}\")\n",
    "    print(f\"Confidence: {confidence:.2%}\")\n",
    "    print(f\"Probability distribution: Negative={probs[0]:.2%}, Positive={probs[1]:.2%}\")\n",
    "    \n",
    "    return prediction, probs\n",
    "\n",
    "# Test the prediction function\n",
    "print(\"\\n🎯 Testing prediction function:\")\n",
    "test_texts = [\n",
    "    \"This product is amazing! Best purchase ever!\",\n",
    "    \"Terrible quality, broke after one day. Very disappointed.\",\n",
    "    \"It's okay, nothing special but does the job.\",\n",
    "    \"Absolutely love it! Exceeded all my expectations!\",\n",
    "    \"Worst customer service experience of my life.\"\n",
    "]\n",
    "\n",
    "for text in test_texts:\n",
    "    print(\"\\n\" + \"-\"*50)\n",
    "    predict_sentiment(text)\n",
    "\n",
    "# Cell 14: Save model\n",
    "print(\"\\n💾 Saving model...\")\n",
    "\n",
    "# Save model\n",
    "model.save_pretrained('bert_sentiment_model')\n",
    "tokenizer.save_pretrained('bert_sentiment_model')\n",
    "print(\"✅ Model saved to 'bert_sentiment_model/'\")\n",
    "\n",
    "# Save results\n",
    "import json\n",
    "results = {\n",
    "    'test_accuracy': test_acc,\n",
    "    'test_loss': test_loss,\n",
    "    'best_val_accuracy': best_val_acc,\n",
    "    'config': config,\n",
    "    'history': history\n",
    "}\n",
    "\n",
    "with open('bert_results.json', 'w') as f:\n",
    "    json.dump(results, f, indent=4)\n",
    "print(\"✅ Results saved to 'bert_results.json'\")\n",
    "\n",
    "# Cell 15: Compare with Logistic Regression (if available)\n",
    "try:\n",
    "    # Load LR results if available\n",
    "    with open('logistic_regression_results.json', 'r') as f:\n",
    "        lr_results = json.load(f)\n",
    "    \n",
    "    # Comparison\n",
    "    print(\"\\n📊 Model Comparison:\")\n",
    "    print(\"-\" * 40)\n",
    "    print(f\"Logistic Regression: {lr_results['accuracy']:.4f}\")\n",
    "    print(f\"BERT: {test_acc:.4f}\")\n",
    "    print(f\"Improvement: {((test_acc - lr_results['accuracy']) / lr_results['accuracy'] * 100):.1f}%\")\n",
    "    \n",
    "    # Visualization\n",
    "    models = ['Logistic Regression', 'BERT']\n",
    "    accuracies = [lr_results['accuracy'], test_acc]\n",
    "    \n",
    "    plt.figure(figsize=(8, 6))\n",
    "    bars = plt.bar(models, accuracies, color=['blue', 'green'])\n",
    "    plt.ylabel('Accuracy')\n",
    "    plt.title('Model Performance Comparison')\n",
    "    plt.ylim(0, 1)\n",
    "    \n",
    "    for bar, acc in zip(bars, accuracies):\n",
    "        plt.text(bar.get_x() + bar.get_width()/2, bar.get_height() + 0.01, \n",
    "                 f'{acc:.3f}', ha='center', va='bottom')\n",
    "    \n",
    "    plt.show()\n",
    "except:\n",
    "    print(\"\\n📌 Note: Run logistic regression first for comparison\")\n",
    "\n",
    "print(\"\\n🎉 BERT implementation complete!\")"
   ]
  },
  {
   "cell_type": "code",
   "execution_count": null,
   "id": "38d421b1-dfb3-4e79-b820-0b4e04bc52e0",
   "metadata": {},
   "outputs": [],
   "source": []
  }
 ],
 "metadata": {
  "kernelspec": {
   "display_name": "Python (NLP Clean)",
   "language": "python",
   "name": "nlp_env"
  },
  "language_info": {
   "codemirror_mode": {
    "name": "ipython",
    "version": 3
   },
   "file_extension": ".py",
   "mimetype": "text/x-python",
   "name": "python",
   "nbconvert_exporter": "python",
   "pygments_lexer": "ipython3",
   "version": "3.12.9"
  }
 },
 "nbformat": 4,
 "nbformat_minor": 5
}
